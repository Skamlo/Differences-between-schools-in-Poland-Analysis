{
 "cells": [
  {
   "cell_type": "markdown",
   "metadata": {},
   "source": [
    "# Importing libraries"
   ]
  },
  {
   "cell_type": "code",
   "execution_count": 1,
   "metadata": {},
   "outputs": [],
   "source": [
    "import pandas as pd\n",
    "import numpy as np"
   ]
  },
  {
   "cell_type": "markdown",
   "metadata": {},
   "source": [
    "# Raw dataset"
   ]
  },
  {
   "cell_type": "code",
   "execution_count": 2,
   "metadata": {},
   "outputs": [
    {
     "name": "stdout",
     "output_type": "stream",
     "text": [
      "<class 'pandas.core.frame.DataFrame'>\n",
      "RangeIndex: 55683 entries, 0 to 55682\n",
      "Data columns (total 50 columns):\n",
      " #   Column                            Non-Null Count  Dtype  \n",
      "---  ------                            --------------  -----  \n",
      " 0   Numer RSPO                        55683 non-null  int64  \n",
      " 1   REGON                             55683 non-null  object \n",
      " 2   NIP                               55683 non-null  object \n",
      " 3   Typ                               55683 non-null  object \n",
      " 4   Nazwa                             55683 non-null  object \n",
      " 5   Kod terytorialny województwo      55683 non-null  object \n",
      " 6   Kod terytorialny powiat           55683 non-null  object \n",
      " 7   Kod terytorialny gmina            55683 non-null  object \n",
      " 8   Kod terytorialny miejscowość      55683 non-null  object \n",
      " 9   Kod terytorialny ulica            55683 non-null  object \n",
      " 10  Województwo                       55683 non-null  object \n",
      " 11  Powiat                            55683 non-null  object \n",
      " 12  Gmina                             55683 non-null  object \n",
      " 13  Miejscowość                       55683 non-null  object \n",
      " 14  Rodzaj miejscowości               55683 non-null  object \n",
      " 15  Ulica                             46324 non-null  object \n",
      " 16  Numer budynku                     55683 non-null  object \n",
      " 17  Numer lokalu                      55639 non-null  object \n",
      " 18  Kod pocztowy                      55683 non-null  object \n",
      " 19  Poczta                            55683 non-null  object \n",
      " 20  Telefon                           55681 non-null  object \n",
      " 21  Faks                              55683 non-null  object \n",
      " 22  E-mail                            53881 non-null  object \n",
      " 23  Strona www                        40203 non-null  object \n",
      " 24  Publiczność status                55683 non-null  object \n",
      " 25  Kategoria uczniów                 55683 non-null  object \n",
      " 26  Specyfika placówki                55683 non-null  object \n",
      " 27  Imię i nazwisko dyrektora         55675 non-null  object \n",
      " 28  Data założenia                    55674 non-null  object \n",
      " 29  Data rozpoczęcia działalności     55676 non-null  object \n",
      " 30  Data likwidacji                   0 non-null      float64\n",
      " 31  Typ organu prowadzącego           55677 non-null  object \n",
      " 32  Nazwa organu prowadzącego         55677 non-null  object \n",
      " 33  REGON organu prowadzącego         55677 non-null  object \n",
      " 34  NIP organu prowadzącego           55677 non-null  object \n",
      " 35  Województwo organu prowadzącego   55677 non-null  object \n",
      " 36  Powiat organu prowadzącego        55677 non-null  object \n",
      " 37  Gmina organu prowadzącego         55677 non-null  object \n",
      " 38  Miejsce w strukturze              55683 non-null  object \n",
      " 39  RSPO podmiotu nadrzędnego         16262 non-null  float64\n",
      " 40  Typ podmiotu nadrzędnego          16262 non-null  object \n",
      " 41  Nazwa podmiotu nadrzędnego        16262 non-null  object \n",
      " 42  Liczba uczniów                    55683 non-null  int64  \n",
      " 43  Tereny sportowe                   11965 non-null  object \n",
      " 44  Języki nauczane                   37127 non-null  object \n",
      " 45  Czy zatrudnia logopedę            55683 non-null  object \n",
      " 46  Czy zatrudnia psychologa          55683 non-null  object \n",
      " 47  Czy zatrudnia pedagoga            55683 non-null  object \n",
      " 48  Oddziały podstawowe wg specyfiki  38812 non-null  object \n",
      " 49  Oddziały dodatkowe                8058 non-null   object \n",
      "dtypes: float64(2), int64(2), object(46)\n",
      "memory usage: 21.2+ MB\n"
     ]
    }
   ],
   "source": [
    "df = pd.read_csv(\"../data/rspo/rspo_2024_04_23.csv\", sep=\";\", engine=\"python\", on_bad_lines=\"skip\")\n",
    "df.info()"
   ]
  },
  {
   "cell_type": "markdown",
   "metadata": {},
   "source": [
    "# Removing unnecessary quotient marks"
   ]
  },
  {
   "cell_type": "code",
   "execution_count": 3,
   "metadata": {},
   "outputs": [],
   "source": [
    "toRemove = [\n",
    "    \"REGON\",\n",
    "    \"NIP\",\n",
    "    \"Kod terytorialny województwo\",\n",
    "    \"Kod terytorialny powiat\",\n",
    "    \"Kod terytorialny gmina\",\n",
    "    \"Kod terytorialny miejscowość\",\n",
    "    \"Kod terytorialny ulica\",\n",
    "    \"Numer budynku\",\n",
    "    \"Numer lokalu\",\n",
    "    \"Kod pocztowy\",\n",
    "    \"Telefon\",\n",
    "    \"Faks\",\n",
    "    \"REGON organu prowadzącego\",\n",
    "    \"NIP organu prowadzącego\"\n",
    "]"
   ]
  },
  {
   "cell_type": "code",
   "execution_count": 4,
   "metadata": {},
   "outputs": [],
   "source": [
    "def removeQuotientMark(text: str):\n",
    "    if pd.isna(text):\n",
    "        return text\n",
    "    \n",
    "    text = text.lstrip(\"=\\\"\").rstrip(\"\\\"\")\n",
    "\n",
    "    if text == \"\":\n",
    "        return np.nan\n",
    "    \n",
    "    return text\n",
    "\n",
    "for col in toRemove:\n",
    "    df[col] = df[col].transform(removeQuotientMark)"
   ]
  },
  {
   "cell_type": "markdown",
   "metadata": {},
   "source": [
    "# Replacing empty string to NaN values"
   ]
  },
  {
   "cell_type": "code",
   "execution_count": 5,
   "metadata": {},
   "outputs": [],
   "source": [
    "df['Imię i nazwisko dyrektora'] = df['Imię i nazwisko dyrektora'].transform(lambda text: np.nan if text == ' ' else text)"
   ]
  },
  {
   "cell_type": "markdown",
   "metadata": {},
   "source": [
    "# Drop empty column"
   ]
  },
  {
   "cell_type": "code",
   "execution_count": 6,
   "metadata": {},
   "outputs": [],
   "source": [
    "df.drop(['Data likwidacji'], axis=1, inplace=True)"
   ]
  },
  {
   "cell_type": "markdown",
   "metadata": {},
   "source": [
    "# Lowercase vivoderships"
   ]
  },
  {
   "cell_type": "code",
   "execution_count": 7,
   "metadata": {},
   "outputs": [],
   "source": [
    "df['Województwo organu prowadzącego'] = df['Województwo organu prowadzącego'].str.lower()\n",
    "df['Województwo organu prowadzącego'] = df['Województwo organu prowadzącego'].transform(lambda text: np.nan if pd.isna(text) else text[0].upper() + text[1:])"
   ]
  },
  {
   "cell_type": "markdown",
   "metadata": {},
   "source": [
    "# Convert colum names"
   ]
  },
  {
   "cell_type": "code",
   "execution_count": 8,
   "metadata": {},
   "outputs": [],
   "source": [
    "def convertColumns(columns: list):\n",
    "    # lowercase\n",
    "    columns = [col.lower() for col in columns]\n",
    "\n",
    "    # remove polish diacritical characters\n",
    "    converter = {polish: normal for polish, normal in zip(list(\"ąęćżźśńłó\"), list(\"aeczzsnlo\"))}\n",
    "\n",
    "    for i in range(len(columns)):\n",
    "        newCol = \"\"\n",
    "        for char in columns[i]:\n",
    "            if char in converter.keys():\n",
    "                newCol += converter[char]\n",
    "            else:\n",
    "                newCol += char\n",
    "        columns[i] = newCol\n",
    "\n",
    "    # remove spaces\n",
    "    columns = [\"_\".join(col.split()) for col in columns]\n",
    "\n",
    "    # remove dasches\n",
    "    columns = [col.replace(\"-\", \"_\") for col in columns]\n",
    "\n",
    "    return columns\n",
    "\n",
    "\n",
    "columns = convertColumns(df.columns.to_list())"
   ]
  },
  {
   "cell_type": "code",
   "execution_count": 9,
   "metadata": {},
   "outputs": [],
   "source": [
    "df.columns = columns"
   ]
  },
  {
   "cell_type": "markdown",
   "metadata": {},
   "source": [
    "# Save changes"
   ]
  },
  {
   "cell_type": "code",
   "execution_count": 10,
   "metadata": {},
   "outputs": [],
   "source": [
    "df.to_csv('../data/rspo/rspo_2024_04_23_clean.csv', index=False, sep=\";\")"
   ]
  }
 ],
 "metadata": {
  "kernelspec": {
   "display_name": "Python 3",
   "language": "python",
   "name": "python3"
  },
  "language_info": {
   "codemirror_mode": {
    "name": "ipython",
    "version": 3
   },
   "file_extension": ".py",
   "mimetype": "text/x-python",
   "name": "python",
   "nbconvert_exporter": "python",
   "pygments_lexer": "ipython3",
   "version": "3.12.2"
  }
 },
 "nbformat": 4,
 "nbformat_minor": 2
}
