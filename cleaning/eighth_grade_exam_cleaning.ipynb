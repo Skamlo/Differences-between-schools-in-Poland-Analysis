{
 "cells": [
  {
   "cell_type": "markdown",
   "metadata": {},
   "source": [
    "# Import libraries"
   ]
  },
  {
   "cell_type": "code",
   "execution_count": 1,
   "metadata": {},
   "outputs": [],
   "source": [
    "import numpy as np\n",
    "import pandas as pd\n",
    "\n",
    "import warnings\n",
    "warnings.filterwarnings('ignore')"
   ]
  },
  {
   "cell_type": "markdown",
   "metadata": {},
   "source": [
    "# Defining list with file names"
   ]
  },
  {
   "cell_type": "code",
   "execution_count": 2,
   "metadata": {},
   "outputs": [],
   "source": [
    "files = [\n",
    "    \"E8 - szkoły (aktualizacja 09.2021)\",\n",
    "    \"E8 - szkoły (aktualizacja 09.2022)\",\n",
    "    \"E8 - szkoły (aktualizacja 09.2023)\"\n",
    "]"
   ]
  },
  {
   "cell_type": "markdown",
   "metadata": {},
   "source": [
    "# Combining columns with correlated exams"
   ]
  },
  {
   "cell_type": "code",
   "execution_count": 3,
   "metadata": {},
   "outputs": [],
   "source": [
    "exams = [\n",
    "    \"język polski\",\n",
    "    \"matematyka\",\n",
    "    \"język angielski\",\n",
    "    \"język francuski\",\n",
    "    \"język hiszpański\",\n",
    "    \"język niemiecki\",\n",
    "    \"język rosyjski\",\n",
    "    \"język włoski\"\n",
    "]"
   ]
  },
  {
   "cell_type": "code",
   "execution_count": 4,
   "metadata": {},
   "outputs": [],
   "source": [
    "for file in files:\n",
    "    with open(f\"../data/eighth_grade_exam/{file} - raw.csv\", \"r\", encoding=\"utf-8-sig\") as f:\n",
    "        columns = f.readline().rstrip(\"\\n\").split(\";\")\n",
    "\n",
    "    i = 0\n",
    "    while columns[i] != \"liczba zdających\":\n",
    "        i += 1\n",
    "\n",
    "    for exam in exams:\n",
    "        columns[i] = f\"{exam}_{columns[i]}\"\n",
    "        i += 1\n",
    "        while columns[i] != \"liczba zdających\":\n",
    "            columns[i] = f\"{exam}_{columns[i]}\"\n",
    "            i += 1\n",
    "\n",
    "            if i+1 == len(columns):\n",
    "                break\n",
    "\n",
    "    df = pd.read_csv(f\"../data/eighth_grade_exam/{file} - raw.csv\", sep=\";\")\n",
    "    df.columns = columns\n",
    "    df.to_csv(f\"../data/eighth_grade_exam/{file}.csv\", index=False, sep=\";\")"
   ]
  },
  {
   "cell_type": "markdown",
   "metadata": {},
   "source": [
    "# Combining datasets"
   ]
  },
  {
   "cell_type": "code",
   "execution_count": 5,
   "metadata": {},
   "outputs": [],
   "source": [
    "df1 = pd.read_csv(f\"../data/eighth_grade_exam/{files[0]}.csv\", sep=\";\")\n",
    "df1['rok'] = 2021\n",
    "\n",
    "df2 = pd.read_csv(f\"../data/eighth_grade_exam/{files[1]}.csv\", sep=\";\")\n",
    "df2['rok'] = 2022\n",
    "\n",
    "df3 = pd.read_csv(f\"../data/eighth_grade_exam/{files[2]}.csv\", sep=\";\")\n",
    "df3['rok'] = 2023\n",
    "\n",
    "df = pd.concat([df1, df2, df2])\n",
    "df.reset_index(drop=True, inplace=True)"
   ]
  },
  {
   "cell_type": "markdown",
   "metadata": {},
   "source": [
    "# Converting colum names"
   ]
  },
  {
   "cell_type": "code",
   "execution_count": 6,
   "metadata": {},
   "outputs": [],
   "source": [
    "def convertColumns(columns: list):\n",
    "    for i in range(len(columns)):\n",
    "        # lowercase\n",
    "        columns[i] = columns[i].lower()\n",
    "\n",
    "        # strip percentage\n",
    "        columns[i] = columns[i].rstrip(\" (%)\")\n",
    "\n",
    "        # replace space\n",
    "        columns[i] = columns[i].replace(\" \", \"_\").replace(\"_-_\", \"_\")\n",
    "\n",
    "        # replace polish diacritical characters\n",
    "        converter = {polish: normal for polish, normal in zip(list(\"ąęćżźśńłó\"), list(\"aeczzsnlo\"))}\n",
    "        columns[i] = \"\".join([converter[char] if char in converter.keys() else char for char in list(columns[i])])"
   ]
  },
  {
   "cell_type": "code",
   "execution_count": 7,
   "metadata": {},
   "outputs": [],
   "source": [
    "columns = df.columns.to_list()\n",
    "convertColumns(columns)\n",
    "df.columns = columns"
   ]
  },
  {
   "cell_type": "code",
   "execution_count": 8,
   "metadata": {},
   "outputs": [],
   "source": [
    "df.rename(columns={\"modalna\": \"jezyk_wloski_modalna\"}, inplace=True)"
   ]
  },
  {
   "cell_type": "markdown",
   "metadata": {},
   "source": [
    "# Convert columns data type"
   ]
  },
  {
   "cell_type": "code",
   "execution_count": 9,
   "metadata": {},
   "outputs": [],
   "source": [
    "for col in df.columns.to_list():\n",
    "    if \"liczba_zdajacych\" in col:\n",
    "        df[col].fillna(-1, inplace=True)\n",
    "        df[col] = df[col].astype(\"int64\")"
   ]
  },
  {
   "cell_type": "markdown",
   "metadata": {},
   "source": [
    "# Add primary key"
   ]
  },
  {
   "cell_type": "code",
   "execution_count": 15,
   "metadata": {},
   "outputs": [],
   "source": [
    "df.reset_index(inplace=True)\n",
    "df.rename(columns={\"index\": \"row_id\"}, inplace=True)"
   ]
  },
  {
   "cell_type": "markdown",
   "metadata": {},
   "source": [
    "# Save"
   ]
  },
  {
   "cell_type": "code",
   "execution_count": 16,
   "metadata": {},
   "outputs": [],
   "source": [
    "df.to_csv(\"../data/eighth_grade_exam/eighth_grade_exam_szkoly.csv\", index=False, sep=\";\")"
   ]
  }
 ],
 "metadata": {
  "kernelspec": {
   "display_name": "Python 3",
   "language": "python",
   "name": "python3"
  },
  "language_info": {
   "codemirror_mode": {
    "name": "ipython",
    "version": 3
   },
   "file_extension": ".py",
   "mimetype": "text/x-python",
   "name": "python",
   "nbconvert_exporter": "python",
   "pygments_lexer": "ipython3",
   "version": "3.12.2"
  }
 },
 "nbformat": 4,
 "nbformat_minor": 2
}
