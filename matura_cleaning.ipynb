{
 "cells": [
  {
   "cell_type": "markdown",
   "metadata": {},
   "source": [
    "# Importing libraries"
   ]
  },
  {
   "cell_type": "code",
   "execution_count": 1,
   "metadata": {},
   "outputs": [],
   "source": [
    "import numpy as np\n",
    "import pandas as pd\n",
    "\n",
    "import warnings\n",
    "warnings.filterwarnings('ignore')"
   ]
  },
  {
   "cell_type": "markdown",
   "metadata": {},
   "source": [
    "# Defining list with file names"
   ]
  },
  {
   "cell_type": "code",
   "execution_count": 2,
   "metadata": {},
   "outputs": [],
   "source": [
    "files = [\n",
    "    \"EM2015 - szkoły (aktualizacja 09.2021)\",\n",
    "    \"EM2015 - szkoły (aktualizacja 09.2022)\",\n",
    "    \"EM2015 - szkoły (aktualizacja 09.2023)\",\n",
    "    \"EM2023 - szkoły (aktualizacja 09.2023)\"\n",
    "]"
   ]
  },
  {
   "cell_type": "markdown",
   "metadata": {},
   "source": [
    "# Combining columns with correlated exams"
   ]
  },
  {
   "cell_type": "code",
   "execution_count": 3,
   "metadata": {},
   "outputs": [],
   "source": [
    "def extractExams(file: str):\n",
    "    with open(file, \"r\", encoding=\"utf-8-sig\") as f:\n",
    "        head = f.readline()\n",
    "    head = head.split(\";\")\n",
    "    head = [element for element in head if element and not element in [\"dla całego egzaminu dojrzałości\", \"\\n\"]]\n",
    "    head = [element.rstrip(\" (E)\").rstrip(\" (M)\") for element in head]\n",
    "    return head\n",
    "\n",
    "\n",
    "for file in files:\n",
    "    df = pd.read_csv(f\"data/matura/{file} - raw.csv\", sep=\";\")\n",
    "    columns = df.columns.to_list()\n",
    "    exames = extractExams(f\"data/matura/{file} - columns.csv\")\n",
    "    newColumns = []\n",
    "    pos = 0\n",
    "\n",
    "    while columns[pos].split(\".\")[0] != \"* liczba zdających\":\n",
    "        column = columns[pos]\n",
    "        column = column.lstrip(\"*\").lstrip(\" \")\n",
    "        newColumns.append(column)\n",
    "        pos += 1\n",
    "\n",
    "    for exam in exames:\n",
    "        column = columns[pos]\n",
    "        column = column.split(\".\")[0].lstrip(\"*\").strip(\" \")\n",
    "        column = f\"{exam} | {column}\"\n",
    "        newColumns.append(column)\n",
    "        pos += 1\n",
    "\n",
    "        while columns[pos].split(\".\")[0] != \"* liczba zdających\":\n",
    "                column = columns[pos]\n",
    "                column = column.split(\".\")[0].lstrip(\"*\").strip(\" \")\n",
    "                column = f\"{exam} | {column}\"\n",
    "                newColumns.append(column)\n",
    "                pos += 1\n",
    "\n",
    "                if pos >= len(columns):\n",
    "                     break\n",
    "\n",
    "    df.columns = newColumns\n",
    "    df.to_csv(f\"data/matura/{file}.csv\", index=False, sep=\";\")"
   ]
  },
  {
   "cell_type": "markdown",
   "metadata": {},
   "source": [
    "# Combining repeating columns"
   ]
  },
  {
   "cell_type": "code",
   "execution_count": 4,
   "metadata": {},
   "outputs": [],
   "source": [
    "def combineCols(df: pd.DataFrame, col1: str, col2: str):\n",
    "    \"\"\"\n",
    "    col1 have higher priority\n",
    "    \"\"\"\n",
    "    for i in range(len(df)):\n",
    "        if pd.isnull(df.loc[i, col1]):\n",
    "            df.loc[i, col1] = df.loc[i, col2]\n",
    "            \n",
    "    df.drop([col2], axis=1, inplace=True)"
   ]
  },
  {
   "cell_type": "markdown",
   "metadata": {},
   "source": [
    "### EM2015 - 2021"
   ]
  },
  {
   "cell_type": "code",
   "execution_count": 5,
   "metadata": {},
   "outputs": [
    {
     "data": {
      "text/plain": [
       "[]"
      ]
     },
     "execution_count": 5,
     "metadata": {},
     "output_type": "execute_result"
    }
   ],
   "source": [
    "df = pd.read_csv(\"data/matura/EM2015 - szkoły (aktualizacja 09.2021).csv\", sep=\";\")\n",
    "columns = []\n",
    "for col in df.columns.to_list():\n",
    "    if \".1\" in col:\n",
    "        columns.append(col)\n",
    "\n",
    "columns"
   ]
  },
  {
   "cell_type": "markdown",
   "metadata": {},
   "source": [
    "### EM2015 - 2022"
   ]
  },
  {
   "cell_type": "code",
   "execution_count": 6,
   "metadata": {},
   "outputs": [],
   "source": [
    "df = pd.read_csv(\"data/matura/EM2015 - szkoły (aktualizacja 09.2022).csv\", sep=\";\")\n",
    "columns = []\n",
    "for col in df.columns.to_list():\n",
    "    if \".1\" in col:\n",
    "        columns.append(col)"
   ]
  },
  {
   "cell_type": "code",
   "execution_count": 7,
   "metadata": {},
   "outputs": [],
   "source": [
    "for col in columns:\n",
    "    combineCols(df, col.rstrip(\".1\"), col)"
   ]
  },
  {
   "cell_type": "code",
   "execution_count": 8,
   "metadata": {},
   "outputs": [],
   "source": [
    "df.to_csv(\"data/matura/EM2015 - szkoły (aktualizacja 09.2022).csv\", sep=\";\", index=False)"
   ]
  },
  {
   "cell_type": "markdown",
   "metadata": {},
   "source": [
    "### EM2015 - 2023"
   ]
  },
  {
   "cell_type": "code",
   "execution_count": 9,
   "metadata": {},
   "outputs": [],
   "source": [
    "df = pd.read_csv(\"data/matura/EM2015 - szkoły (aktualizacja 09.2023).csv\", sep=\";\")\n",
    "columns = []\n",
    "for col in df.columns.to_list():\n",
    "    if \".1\" in col:\n",
    "        columns.append(col)"
   ]
  },
  {
   "cell_type": "code",
   "execution_count": 10,
   "metadata": {},
   "outputs": [],
   "source": [
    "for col in columns:\n",
    "    combineCols(df, col.rstrip(\".1\"), col)"
   ]
  },
  {
   "cell_type": "code",
   "execution_count": 35,
   "metadata": {},
   "outputs": [],
   "source": [
    "df.to_csv(\"data/matura/EM2015 - szkoły (aktualizacja 09.2023).csv\", sep=\";\", index=False)"
   ]
  },
  {
   "cell_type": "markdown",
   "metadata": {},
   "source": [
    "### EM2023 - 2023"
   ]
  },
  {
   "cell_type": "code",
   "execution_count": 36,
   "metadata": {},
   "outputs": [],
   "source": [
    "df = pd.read_csv(\"data/matura/EM2023 - szkoły (aktualizacja 09.2023).csv\", sep=\";\")\n",
    "columns = []\n",
    "for col in df.columns.to_list():\n",
    "    if \".1\" in col:\n",
    "        columns.append(col)"
   ]
  },
  {
   "cell_type": "code",
   "execution_count": 37,
   "metadata": {},
   "outputs": [],
   "source": [
    "for col in columns:\n",
    "    combineCols(df, col.rstrip(\".1\"), col)"
   ]
  },
  {
   "cell_type": "code",
   "execution_count": 38,
   "metadata": {},
   "outputs": [],
   "source": [
    "df.to_csv(\"data/matura/EM2023 - szkoły (aktualizacja 09.2023).csv\", sep=\";\", index=False)"
   ]
  },
  {
   "cell_type": "markdown",
   "metadata": {},
   "source": [
    "# Combining datasets"
   ]
  },
  {
   "cell_type": "code",
   "execution_count": 20,
   "metadata": {},
   "outputs": [],
   "source": [
    "df1 = pd.read_csv(\"data/matura/EM2015 - szkoły (aktualizacja 09.2021).csv\", sep=\";\")\n",
    "df1['rok'] = 2021\n",
    "df1['formuła'] = \"EM2015\"\n",
    "\n",
    "df2 = pd.read_csv(\"data/matura/EM2015 - szkoły (aktualizacja 09.2022).csv\", sep=\";\")\n",
    "df2['rok'] = 2022\n",
    "df2['formuła'] = \"EM2015\"\n",
    "\n",
    "df3 = pd.read_csv(\"data/matura/EM2015 - szkoły (aktualizacja 09.2023).csv\", sep=\";\")\n",
    "df3['rok'] = 2023\n",
    "df3['formuła'] = \"EM2015\"\n",
    "\n",
    "df4 = pd.read_csv(\"data/matura/EM2023 - szkoły (aktualizacja 09.2023).csv\", sep=\";\")\n",
    "df4['rok'] = 2023\n",
    "df4['formuła'] = \"EM2023\"\n",
    "\n",
    "df = pd.concat([df1, df2, df3, df4])\n",
    "df.reset_index(drop=True, inplace=True)\n",
    "\n",
    "columns = df.columns.to_list()\n",
    "columns = [col.lower() for col in columns]\n",
    "df.columns = columns\n",
    "\n",
    "df.to_csv(\"data/matura/matura_szkoly.csv\", index=False, sep=\";\")"
   ]
  },
  {
   "cell_type": "markdown",
   "metadata": {},
   "source": [
    "### Combining duplicated columns"
   ]
  },
  {
   "cell_type": "code",
   "execution_count": 21,
   "metadata": {},
   "outputs": [],
   "source": [
    "df = pd.read_csv(\"data/matura/matura_szkoly.csv\", sep=\";\")\n",
    "columns = []\n",
    "for col in df.columns.to_list():\n",
    "    if \".1\" in col:\n",
    "        columns.append(col)"
   ]
  },
  {
   "cell_type": "code",
   "execution_count": 22,
   "metadata": {},
   "outputs": [],
   "source": [
    "for col in columns:\n",
    "    combineCols(df, col.rstrip(\".1\"), col)"
   ]
  },
  {
   "cell_type": "markdown",
   "metadata": {},
   "source": [
    "### Converting colum names"
   ]
  },
  {
   "cell_type": "code",
   "execution_count": 23,
   "metadata": {},
   "outputs": [],
   "source": [
    "def convertColumns(columns: list):\n",
    "    # lowercase\n",
    "    columns = [col.lower() for col in columns]\n",
    "\n",
    "    # remove polish diacritical characters\n",
    "    converter = {polish: normal for polish, normal in zip(list(\"ąęćżźśńłó\"), list(\"aeczzsnlo\"))}\n",
    "\n",
    "    for i in range(len(columns)):\n",
    "        newCol = \"\"\n",
    "        for char in columns[i]:\n",
    "            if char in converter.keys():\n",
    "                newCol += converter[char]\n",
    "            else:\n",
    "                newCol += char\n",
    "        columns[i] = newCol\n",
    "\n",
    "    # remove spaces\n",
    "    columns = [\"_\".join(col.split()) for col in columns]\n",
    "\n",
    "    # remove dasches\n",
    "    columns = [col.replace(\"-\", \"_\") for col in columns]\n",
    "\n",
    "    return columns"
   ]
  },
  {
   "cell_type": "code",
   "execution_count": 24,
   "metadata": {},
   "outputs": [],
   "source": [
    "df.columns = convertColumns(df.columns.to_list())"
   ]
  },
  {
   "cell_type": "code",
   "execution_count": 25,
   "metadata": {},
   "outputs": [],
   "source": [
    "df.to_csv(\"data/matura/matura_szkoly.csv\", index=False, sep=\";\")"
   ]
  }
 ],
 "metadata": {
  "kernelspec": {
   "display_name": "Python 3",
   "language": "python",
   "name": "python3"
  },
  "language_info": {
   "codemirror_mode": {
    "name": "ipython",
    "version": 3
   },
   "file_extension": ".py",
   "mimetype": "text/x-python",
   "name": "python",
   "nbconvert_exporter": "python",
   "pygments_lexer": "ipython3",
   "version": "3.12.2"
  }
 },
 "nbformat": 4,
 "nbformat_minor": 2
}
