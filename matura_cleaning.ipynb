{
 "cells": [
  {
   "cell_type": "code",
   "execution_count": 14,
   "metadata": {},
   "outputs": [],
   "source": [
    "import numpy as np\n",
    "import pandas as pd\n",
    "\n",
    "import warnings\n",
    "warnings.filterwarnings('ignore')"
   ]
  },
  {
   "cell_type": "code",
   "execution_count": 46,
   "metadata": {},
   "outputs": [],
   "source": [
    "files = [\n",
    "    \"EM2015 - szkoły (aktualizacja 09.2021)\",\n",
    "    \"EM2015 - szkoły (aktualizacja 09.2022)\",\n",
    "    \"EM2015 - szkoły (aktualizacja 09.2023)\",\n",
    "    \"EM2023 - szkoły (aktualizacja 09.2023)\"\n",
    "]\n",
    "\n",
    "\n",
    "def extractExams(file: str):\n",
    "    with open(file, \"r\", encoding=\"utf-8-sig\") as f:\n",
    "        head = f.readline()\n",
    "    head = head.split(\";\")\n",
    "    head = [element for element in head if element and not element in [\"dla całego egzaminu dojrzałości\", \"\\n\"]]\n",
    "    return head\n",
    "\n",
    "\n",
    "for file in files:\n",
    "    df = pd.read_csv(f\"data/matura/{file} - raw.csv\", sep=\";\")\n",
    "    columns = df.columns.to_list()\n",
    "    exames = extractExams(f\"data/matura/{file} - columns.csv\")\n",
    "    newColumns = []\n",
    "    pos = 0\n",
    "\n",
    "    while columns[pos].rstrip(f\".{i}\") != \"* liczba zdających\":\n",
    "        column = columns[pos]\n",
    "        column = column.lstrip(\"*\").lstrip(\" \")\n",
    "        newColumns.append(column)\n",
    "        pos += 1\n",
    "\n",
    "    for i, exam in enumerate(exames):\n",
    "        column = columns[pos]\n",
    "        column = column.split(\".\")[0].lstrip(\"*\").strip(\" \")\n",
    "        column = f\"{exam} | {column}\"\n",
    "        newColumns.append(column)\n",
    "        pos += 1\n",
    "\n",
    "        while columns[pos].split(\".\")[0] != \"* liczba zdających\":\n",
    "                column = columns[pos]\n",
    "                column = column.split(\".\")[0].lstrip(\"*\").strip(\" \")\n",
    "                column = f\"{exam} | {column}\"\n",
    "                newColumns.append(column)\n",
    "                pos += 1\n",
    "\n",
    "                if pos >= len(columns):\n",
    "                     break\n",
    "\n",
    "    df.columns = newColumns\n",
    "    df.to_csv(f\"data/matura/{file}.csv\", index=False, sep=\";\")"
   ]
  }
 ],
 "metadata": {
  "kernelspec": {
   "display_name": "Python 3",
   "language": "python",
   "name": "python3"
  },
  "language_info": {
   "codemirror_mode": {
    "name": "ipython",
    "version": 3
   },
   "file_extension": ".py",
   "mimetype": "text/x-python",
   "name": "python",
   "nbconvert_exporter": "python",
   "pygments_lexer": "ipython3",
   "version": "3.12.2"
  }
 },
 "nbformat": 4,
 "nbformat_minor": 2
}
